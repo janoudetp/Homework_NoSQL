{
 "cells": [
  {
   "attachments": {},
   "cell_type": "markdown",
   "metadata": {},
   "source": [
    "### Homework 1\n",
    "\n",
    "pubmed_cleaned.zip is a file containing a metadatas sample from pubmed articles. Your goal is to **convert the json to a mongo DB** and answer the following questions **USING** mongodb querys:\n",
    "\n",
    "1) Create an index, explain your choice of key.\n",
    "\n",
    "2) Delete every paper that was published prior 2019\n",
    "\n",
    "3) How many paper have a single author ? Two authors ?\n",
    "\n",
    "4) What's the last paper inserted in the db ?\n",
    "\n",
    "5) Find articles with null meshwords.\n",
    "\n",
    "6) Choose a keyword you are interested in (machine learning, computer vision,...). Find the number of articles with the choosen keyword in their meshwords, abstract or title.\n",
    "\n",
    "7) What's the number of articles that have atleast one affiliation AND meshwords.\n",
    "\n",
    "8) How many articles have a publishing date after 2020 ?\n",
    "\n",
    "9) Find articles where there's atleast one affiliation from a choosen country (you decide which one).\n",
    "\n",
    "10) Check for any duplicates. (hint: look at the doi or the pmid)\n",
    "\n",
    "11) Remove every articles where the abstract starts with an \"R\".\n",
    "\n",
    "12) Return the list of papers (pmid) where there's atleast one affiliation per author\n",
    "\n",
    "13) Create 500 random samples of the dataset, compute a statistics that you are interested in and check how it behaves through the different samples\n",
    "\n",
    "14) Sandbox exercise: think of a problematic and try to answer it."
   ]
  },
  {
   "cell_type": "code",
   "execution_count": null,
   "metadata": {},
   "outputs": [],
   "source": []
  },
  {
   "attachments": {},
   "cell_type": "markdown",
   "metadata": {},
   "source": [
    "### Homework 2\n",
    "\n",
    "authors.zip is a file containing a sample of authors that wrote a paper published on pubmed. Each doc as, at most, 5 keys. \"AND_ID\" is the disambiguated author id. \"pmid_list\" is the list of ids that the author published. \"more_info\" is a list of dict with each dict representing info for a given paper. \"oa04_affiliations\" is a list of dict with each dict representing affiliation info for a given paper. \"oa06_researcher_education\" is a list of dict with each dict containing information on the education of the researcher.\n",
    "\n",
    "Your goal is to **convert the json to a mongo DB** and answer the following questions **USING** mongodb querys:\n",
    "\n",
    "1) Create an index, explain your choice of key.\n",
    "\n",
    "2) What is the average length of \"pmid_list\"\n",
    "\n",
    "3) How many distinct affiliations are there ?\n",
    "\n",
    "4) Find authors with atleast one \"COM\" AffiliationType\n",
    "\n",
    "5) How many authors switched the AffiliationType ?\n",
    "\n",
    "6) Find affiliation with the word \"China\" \n",
    "\n",
    "7) Get the pmids of papers published in 2019\n",
    "\n",
    "8) Count the number of doc with \"oa06_researcher_education\" OR \"oa04_affiliations\" key and with the \"oa06_researcher_education\" AND \"oa04_affiliations\" .\n",
    "\n",
    "9) What's the average \"BeginYear\" of \"oa06_researcher_education\".\n",
    "\n",
    "10) Count the distinct country of \"oa06_researcher_education\"\n",
    "\n",
    "11) Does the length of pmid_list and more_info always match ?\n",
    "\n",
    "12) Does the length of pmid_list and \"oa04_affiliations\" always match ?\n",
    "\n",
    "13) Sandbox exercise: think of a problematic and try to answer it."
   ]
  }
 ],
 "metadata": {
  "kernelspec": {
   "display_name": "base",
   "language": "python",
   "name": "python3"
  },
  "language_info": {
   "name": "python",
   "version": "3.9.13"
  },
  "orig_nbformat": 4
 },
 "nbformat": 4,
 "nbformat_minor": 2
}
