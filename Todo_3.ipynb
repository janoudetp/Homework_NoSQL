{
 "cells": [
  {
   "cell_type": "code",
   "execution_count": null,
   "metadata": {},
   "outputs": [],
   "source": [
    "pip install pymongo"
   ]
  },
  {
   "cell_type": "code",
   "execution_count": 4,
   "metadata": {},
   "outputs": [],
   "source": [
    "import pymongo\n",
    "import tqdm"
   ]
  },
  {
   "cell_type": "code",
   "execution_count": 2,
   "metadata": {},
   "outputs": [],
   "source": [
    "import pymongo\n",
    "import numpy as np\n",
    "\n",
    "client = pymongo.MongoClient(\"mongodb://localhost:27017/\")\n",
    "\n",
    "db = client[\"Todo\"]\n",
    "CRUD_exercise = db[\"CRUD_exercise\"]"
   ]
  },
  {
   "cell_type": "code",
   "execution_count": null,
   "metadata": {},
   "outputs": [],
   "source": [
    "\n",
    "#1\n",
    "doc = {\"name\": \"John\", \"age\": 25, \"city\": \"New York\"}\n",
    "CRUD_exercise.insert_one(doc)\n",
    "\n",
    "#2\n",
    "CRUD_exercise.insert_many([{\"x\": 1}, {\"x\": 1}, {\"x\": 1}])\n",
    "CRUD_exercise.delete_one({\"x\": 1})\n",
    "CRUD_exercise.update_many({}, {\"$inc\": {\"x\": 3}})\n",
    "\n",
    "#3\n",
    "example = db[\"example\"]\n",
    "doc = {\"author\": \"Mike\", \"text\": \"My first blog post!\", \"tags\": [\"mongodb\", \"python\", \"pymongo\"]}\n",
    "example.insert_one(doc)\n",
    "\n",
    "#4\n",
    "authors = CRUD_exercise.find({\"authors\": {\"$exists\": True}})\n",
    "for author in authors:\n",
    "    print(author)\n",
    "\n",
    "#5\n",
    "CRUD_exercise.update_many({\"x\": 4}, {\"$set\": {\"x\": 1}})\n",
    "\n",
    "#6\n",
    "CRUD_exercise.update_many({\"author\": \"not_mike\"}, {\"$set\": {\"author\": \"real_mike\"}})\n",
    "\n",
    "#7\n",
    "CRUD_exercise.delete_many({\"author\": \"real_mike\"})\n",
    "\n",
    "#8\n",
    "CRUD_exercise_benchmark = db[\"CRUD_exercise_benchmark\"]\n",
    "data = [{\"id\": i, \"values\": np.random.rand(10)} for i in range(0, 1000000, 2)]\n",
    "CRUD_exercise_benchmark.insert_many(data)\n",
    "CRUD_exercise_benchmark.create_index([(\"id\", pymongo.ASCENDING)])\n",
    "result_before = CRUD_exercise_benchmark.find({\"id\": 100}).explain()[\"executionStats\"]\n",
    "result_after = CRUD_exercise_benchmark.find({\"id\": 100}).explain()[\"executionStats\"]\n",
    "\n",
    "#9\n",
    "random_db = client[\"Random\"]\n",
    "random_collection = random_db[\"Random_collection\"]\n",
    "random_collection.insert_one({\"message\": \"This is a random collection\"})\n",
    "client.admin.command(\"copydb\", fromdb=\"Random\", todb=\"Todo\")\n",
    "\n",
    "#10\n",
    "# Inner join returns only the matching documents from both collections whereas outer join returns all documents \n",
    "# from both collections, including non-matching documents as null. The query seen during the course was an inner join.\n"
   ]
  }
 ],
 "metadata": {
  "kernelspec": {
   "display_name": "base",
   "language": "python",
   "name": "python3"
  },
  "language_info": {
   "codemirror_mode": {
    "name": "ipython",
    "version": 3
   },
   "file_extension": ".py",
   "mimetype": "text/x-python",
   "name": "python",
   "nbconvert_exporter": "python",
   "pygments_lexer": "ipython3",
   "version": "3.9.13"
  },
  "orig_nbformat": 4
 },
 "nbformat": 4,
 "nbformat_minor": 2
}
