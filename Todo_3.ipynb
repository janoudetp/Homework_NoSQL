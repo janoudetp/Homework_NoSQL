{
 "cells": [
  {
   "attachments": {},
   "cell_type": "markdown",
   "metadata": {},
   "source": [
    "#### CRUD operations\n",
    "\n",
    "Create a new db name Todo and a new collection named \"CRUD_exercise\" and do the following:\n",
    "\n",
    "**TODO 1**: Take the dict created in the TODO 4 in chapter II and save it in the collection \"CRUD_exercise\".\n",
    "\n",
    "**TODO 2**: Insert 3 documents with key = x and values = 1, delete one of them. Which one is deleted first ? the most recent or oldest one ? increment the value of x to 4.\n",
    "\n",
    "**TODO 3**: Insert the dict created in the TODO 6 Chapter II in the example collection.\n",
    "\n",
    "**TODO 4**: Get documents where authors key exist in the collection \"CRUD_exercise\".\n",
    "\n",
    "**TODO 5**: Change the documents where x = 4 to x = 1.\n",
    "\n",
    "**TODO 6**: Find documents where author is not_mike and set author as real_mike.\n",
    "\n",
    "**TODO 7**: Delete documents where author is real_mike.\n",
    "\n",
    "#### Managing DB\n",
    "\n",
    "**TODO 8**: create a collection named \"CRUD_exercise_benchmark\" with 500k observations, ids increment of 2 (sequence:0,2,4,6,...1M). Give a random np.array with a key named \"values\" and use the insert_many. Then create an index on the id and benchmark queries before and after indexing. Did the index help ?\n",
    "\n",
    "**TODO 9**: create a random collection in a random db and put the new collection in the tutorial DB\n",
    "\n",
    "**TODO 10**: What is the difference between an inner join and an outer join ? Is the query seen during course an inner or outer join ? Play with the query to show all the joins.\n",
    "\n",
    "#### Real world problems\n",
    "\n",
    "**TODO 11**:  Use the oaipmh and api code get papers \"econ\" categories. Insert them in MongoDB. Import only the first 200. How is it sorted ? How can you define your own sort()? Query papers to get papers after 2021, which have 3 authors and with domain \"econ\".\n",
    "\n",
    "**TODO 12**: Do the same as TODO 8 but with the connection to the cluster. Then check the metrics and take screenshot of opcounters, logical size and connections.\n",
    "\n",
    "**TODO 13**: Download a random image and store it in a collection.\n",
    "\n",
    "**TODO 14**: Try to store a pandas dataframe in mongoDB (array with rownames, array with colnames and matrix with values)\n",
    "\n",
    "**TODO 15**: Insert the movie_review.tsv data into mongodb. Then query it to find the number of review that are positive and negative review. Fetch the docs which have \"unexpected\" in their review, how many are they ? Think of a clever way to count the number of words in the review using MongoDB (hint: Transform the review text before the insert in MongoDB) and create a density of number of words per review.\n",
    "\n",
    "**TODO 16**: Download a [sound sample](https://freesound.org/browse/). Try to store it in MongoDB \n",
    "\n",
    "**TODO 17**: Create a collection with 30M observation with a single key : \"year\" which is a random value between 2000-2020. Get documents with year = 2000. Does using an index helps ?"
   ]
  },
  {
   "cell_type": "code",
   "execution_count": null,
   "metadata": {},
   "outputs": [],
   "source": [
    "pip install pymongo"
   ]
  },
  {
   "cell_type": "code",
   "execution_count": 4,
   "metadata": {},
   "outputs": [],
   "source": [
    "import pymongo\n",
    "import tqdm"
   ]
  },
  {
   "cell_type": "code",
   "execution_count": 2,
   "metadata": {},
   "outputs": [],
   "source": [
    "import pymongo\n",
    "import numpy as np\n",
    "\n",
    "client = pymongo.MongoClient(\"mongodb://localhost:27017/\")\n",
    "\n",
    "db = client[\"Todo\"]\n",
    "CRUD_exercise = db[\"CRUD_exercise\"]"
   ]
  },
  {
   "cell_type": "code",
   "execution_count": null,
   "metadata": {},
   "outputs": [],
   "source": [
    "\n",
    "#1\n",
    "doc = {\"name\": \"John\", \"age\": 25, \"city\": \"New York\"}\n",
    "CRUD_exercise.insert_one(doc)\n",
    "\n",
    "#2\n",
    "CRUD_exercise.insert_many([{\"x\": 1}, {\"x\": 1}, {\"x\": 1}])\n",
    "CRUD_exercise.delete_one({\"x\": 1})\n",
    "CRUD_exercise.update_many({}, {\"$inc\": {\"x\": 3}})\n",
    "\n",
    "#3\n",
    "example = db[\"example\"]\n",
    "doc = {\"author\": \"Mike\", \"text\": \"My first blog post!\", \"tags\": [\"mongodb\", \"python\", \"pymongo\"]}\n",
    "example.insert_one(doc)\n",
    "\n",
    "#4\n",
    "authors = CRUD_exercise.find({\"authors\": {\"$exists\": True}})\n",
    "for author in authors:\n",
    "    print(author)\n",
    "\n",
    "#5\n",
    "CRUD_exercise.update_many({\"x\": 4}, {\"$set\": {\"x\": 1}})\n",
    "\n",
    "#6\n",
    "CRUD_exercise.update_many({\"author\": \"not_mike\"}, {\"$set\": {\"author\": \"real_mike\"}})\n",
    "\n",
    "#7\n",
    "CRUD_exercise.delete_many({\"author\": \"real_mike\"})\n",
    "\n",
    "#8\n",
    "CRUD_exercise_benchmark = db[\"CRUD_exercise_benchmark\"]\n",
    "data = [{\"id\": i, \"values\": np.random.rand(10)} for i in range(0, 1000000, 2)]\n",
    "CRUD_exercise_benchmark.insert_many(data)\n",
    "CRUD_exercise_benchmark.create_index([(\"id\", pymongo.ASCENDING)])\n",
    "result_before = CRUD_exercise_benchmark.find({\"id\": 100}).explain()[\"executionStats\"]\n",
    "result_after = CRUD_exercise_benchmark.find({\"id\": 100}).explain()[\"executionStats\"]\n",
    "\n",
    "#9\n",
    "random_db = client[\"Random\"]\n",
    "random_collection = random_db[\"Random_collection\"]\n",
    "random_collection.insert_one({\"message\": \"This is a random collection\"})\n",
    "client.admin.command(\"copydb\", fromdb=\"Random\", todb=\"Todo\")\n",
    "\n",
    "#10\n",
    "# Inner join returns only the matching documents from both collections whereas outer join returns all documents \n",
    "# from both collections, including non-matching documents as null. The query seen during the course was an inner join."
   ]
  },
  {
   "cell_type": "code",
   "execution_count": null,
   "metadata": {},
   "outputs": [],
   "source": [
    "#11\n"
   ]
  }
 ],
 "metadata": {
  "kernelspec": {
   "display_name": "base",
   "language": "python",
   "name": "python3"
  },
  "language_info": {
   "codemirror_mode": {
    "name": "ipython",
    "version": 3
   },
   "file_extension": ".py",
   "mimetype": "text/x-python",
   "name": "python",
   "nbconvert_exporter": "python",
   "pygments_lexer": "ipython3",
   "version": "3.9.13"
  },
  "orig_nbformat": 4
 },
 "nbformat": 4,
 "nbformat_minor": 2
}
