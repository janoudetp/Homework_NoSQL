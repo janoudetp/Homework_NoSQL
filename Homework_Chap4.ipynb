{
 "cells": [
  {
   "attachments": {},
   "cell_type": "markdown",
   "metadata": {},
   "source": [
    "### Homework 3\n",
    "\n",
    "You will work again on [pubmed_last_100k.json](https://we.tl/t-6afLCDGRsg). The goal in this homework is to insert collaboration data in Neo4j and then study it using cypher queries. The following questions are meant to guide you through the process.\n",
    "\n",
    "1) Each paper has a list of author and affiliations. The first step is to create a node per author with a list of affiliation as attribute. If a name appears multiple times consider it as a single person. Create an edge between two authors if they are on the same paper. You can use any kind of operation to clean the data before inserting, you decide which preprocessing step is the most convenient.\n",
    "\n",
    "2) How many authors have more than 2 affiliations ?\n",
    "\n",
    "3) Create a density of node degrees. Do you observe a power scale law ? What does it mean ?\n",
    "\n",
    "4) Which country has seen the most international collaboration ?\n",
    "\n",
    "5) Who are the top 10 collaborators and what is their affiliation ?\n",
    "\n",
    "6) Sandbox exercise: think of a problematic and try to answer it.\n"
   ]
  },
  {
   "cell_type": "markdown",
   "metadata": {},
   "source": [
    "\n",
    "### Homework 4\n",
    "\n",
    "change the database \"neo4j\" to the database \"movie\". Go to the browser and run on the browser console :play movie-graph then copy the queries on the console and run it. Congrats you just imported a brand new sample of data. Answer the following questions with cypher queries.\n",
    "\n",
    "1) How many actors played in more than 2 movie ? Get their names and year they were born.\n",
    "\n",
    "2) In how many movies did Tom hanks play ?\n",
    "\n",
    "3) In average in how many movies do actors play in ?\n",
    "\n",
    "4) In average how many actors are there in a movie ?\n",
    "\n",
    "5) In average how many writers is needed to write a movie ?\n",
    "\n",
    "6) What is the proportion of writers that also directed the movie ?\n",
    "\n",
    "7) Do an histogram of the year of release for the movies.\n",
    "\n",
    "8) Who are the 10 actors with the most movie played in\n",
    "\n",
    "9) Delete every movie made by a director of your choosing\n",
    "\n",
    "10) Give some statistics that you find interesting.\n",
    "\n",
    "11) Sandbox exercise: think of a problematic and try to answer it.\n",
    "\n"
   ]
  },
  {
   "cell_type": "markdown",
   "metadata": {},
   "source": [
    "\n",
    "## Homework 5\n",
    "\n",
    "You will work on a Twitch dataset found [here](https://www.kaggle.com/andreagarritano/twitch-social-networks). The goal is to learn more about the feat&fun on Twitch. First thing to do is create the network on Neo4j. Insert the node\n",
    "from Twitch/FR_target and then the edges from Twitch/FR_edges.csv in neo4j. Answer the following using cypher queries\n",
    "\n",
    "1) Give the IDs of the top 10 streamers that have atleast one collaboration.\n",
    "\n",
    "2) Create a density of node degrees. Do you observe a power scale law ? What does it mean ?\n",
    "\n",
    "3) How many streamers has the tag \"mature\" ?\n",
    "\n",
    "4) Is the collaboration correlated to the \"mature\" tag ?\n",
    "\n",
    "5) Do partners collaborate more than non partners ?\n",
    "\n",
    "6) Sandbox exercise: think of a problematic and try to answer it.\n",
    "\n"
   ]
  },
  {
   "cell_type": "markdown",
   "metadata": {},
   "source": [
    "\n",
    "## Homework 6 \n",
    "\n",
    "You will work on a stackoverflow dataset found [here](https://www.kaggle.com/stackoverflow/stack-overflow-tag-network). First thing to do is create the network on Neo4j. You can find the characteristics of the nodes in stack_network_nodes.csv.\n",
    "Once the node are create you can create the edges between them, you can find them in stack_network_links.csv. The weight of the edge is the column value. Answer the following making use of cypher queries.\n",
    "\n",
    "1) What are the 10 most popular keywords ?\n",
    "\n",
    "2) What are the top 10 Co-occurence ?\n",
    "\n",
    "3) How many keywords are in group 1 ?\n",
    "\n",
    "3) Is the Co-occurence correlated to the \"group\" of the keyword ?  \n",
    "\n",
    "4) Sandbox exercise: think of a problematic and try to answer it."
   ]
  }
 ],
 "metadata": {
  "kernelspec": {
   "display_name": "base",
   "language": "python",
   "name": "python3"
  },
  "language_info": {
   "name": "python",
   "version": "3.9.13"
  },
  "orig_nbformat": 4
 },
 "nbformat": 4,
 "nbformat_minor": 2
}
