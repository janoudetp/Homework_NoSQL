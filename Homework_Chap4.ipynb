{
 "cells": [
  {
   "attachments": {},
   "cell_type": "markdown",
   "metadata": {},
   "source": [
    "### Homework 4\n",
    "\n",
    "change the database \"neo4j\" to the database \"movie\". Go to the browser and run on the browser console :play movie-graph then copy the queries on the console and run it. Congrats you just imported a brand new sample of data. Answer the following questions with cypher queries.\n",
    "\n",
    "1) How many actors played in more than 2 movie ? Get their names and year they were born.\n",
    "\n",
    "2) In how many movies did Tom hanks play ?\n",
    "\n",
    "3) In average in how many movies do actors play in ?\n",
    "\n",
    "4) In average how many actors are there in a movie ?\n",
    "\n",
    "5) In average how many writers is needed to write a movie ?\n",
    "\n",
    "6) What is the proportion of writers that also directed the movie ?\n",
    "\n",
    "7) Do an histogram of the year of release for the movies.\n",
    "\n",
    "8) Who are the 10 actors with the most movie played in\n",
    "\n",
    "9) Delete every movie made by a director of your choosing\n",
    "\n",
    "10) Give some statistics that you find interesting.\n",
    "\n",
    "11) Sandbox exercise: think of a problematic and try to answer it."
   ]
  },
  {
   "cell_type": "code",
   "execution_count": null,
   "metadata": {},
   "outputs": [],
   "source": [
    "#1 \n",
    "\n",
    "import py2neo\n",
    "graph = py2neo.Graph(\"bolt://localhost:7687\", auth=(\"neo4j\", \"password_tuts\"),name=\"neo4j\")\n",
    "query = \"\"\"\n",
    "MATCH (m:Movie)<-[:ACTED_IN]-(play:Person)\n",
    "with play, count(m) as film where film > 2\n",
    "return play\n",
    "\"\"\"\n",
    "graph.run(query)"
   ]
  },
  {
   "cell_type": "code",
   "execution_count": null,
   "metadata": {},
   "outputs": [],
   "source": [
    "#2\n",
    "\n",
    "query = \"\"\"\n",
    "MATCH (m:Movie)<-[:ACTED_IN]-(play:Person{name:\"Tom Hanks\"})\n",
    "with count(play.name) as nombre\n",
    "return nombre\n",
    "\"\"\"\n",
    "graph.run(query)\n",
    "\n",
    "# Tom Hanks played in 24 films."
   ]
  },
  {
   "cell_type": "code",
   "execution_count": null,
   "metadata": {},
   "outputs": [],
   "source": [
    "#3\n",
    "\n",
    "query = \"\"\"\n",
    "MATCH (m:Movie)<-[:ACTED_IN]-(play:Person)\n",
    "with play, count(m) as film\n",
    "return avg(film)\n",
    "\"\"\"\n",
    "graph.run(query)\n",
    "\n",
    "# In average, actors play in approximatively 1.686274 movies."
   ]
  },
  {
   "cell_type": "code",
   "execution_count": null,
   "metadata": {},
   "outputs": [],
   "source": [
    "#4\n",
    "\n",
    "query = \"\"\"\n",
    "MATCH (m:Movie)<-[:ACTED_IN]-(play:Person)\n",
    "with m, count(play.name) as nombre\n",
    "return avg(nombre)\n",
    "\"\"\"\n",
    "graph.run(query)\n",
    "\n",
    "# In average, there are approximatively 4.5263 actors in each movie."
   ]
  },
  {
   "cell_type": "code",
   "execution_count": null,
   "metadata": {},
   "outputs": [],
   "source": [
    "#5\n",
    "\n",
    "query= \"\"\"\n",
    "MATCH (P:Person)-[:WROTE]->(m:Movie)\n",
    "with m,count(P.name) as nombre\n",
    "RETURN avg(nombre)\n",
    "\"\"\"\n",
    "graph.run(query)\n",
    "\n",
    "# In average, there is approximatively 1.25 writers needed for one movie."
   ]
  },
  {
   "cell_type": "code",
   "execution_count": null,
   "metadata": {},
   "outputs": [],
   "source": [
    "#6\n",
    "\n",
    "query1 =\"\"\"\n",
    "MATCH (m:Movie)<-[:WROTE]-(d:DIRECTED)\n",
    "with count(d.name) as nombre\n",
    "return nombre\n",
    "\"\"\"\n",
    "graph.run(query1)\n",
    "\n",
    "# We cannot find a coherent answer there, for the proportion of writers that also directed the movie."
   ]
  },
  {
   "cell_type": "code",
   "execution_count": null,
   "metadata": {},
   "outputs": [],
   "source": [
    "#7\n",
    "\n",
    "import seaborn as sns\n",
    "%matplotlib inline\n",
    "query =\"\"\" Match (year:Movie) return year.released \"\"\"\n",
    "data =graph.run(query).to_data_frame()\n",
    "sns.distplot(data['year.released'])"
   ]
  },
  {
   "attachments": {
    "image.png": {
     "image/png": "[encoded data removed]"
    }
   },
   "cell_type": "markdown",
   "metadata": {},
   "source": [
    "![image.png](attachment:image.png)"
   ]
  },
  {
   "cell_type": "code",
   "execution_count": null,
   "metadata": {},
   "outputs": [],
   "source": [
    "#8 \n",
    "\n",
    "query = \"\"\"\n",
    "MATCH (m:Movie)<-[:ACTED_IN]-(play:Person)\n",
    "return play.name ,count(m) as nombre_films\n",
    "Order by nombre_films desc\n",
    "Limit 10\n",
    "\"\"\"\n",
    "graph.run(query)\n",
    "\n",
    "# Actors with the most movie played in are Tom Hanks (24), Keanu Reeves (14), Meg Ryan (10), ..."
   ]
  },
  {
   "cell_type": "code",
   "execution_count": null,
   "metadata": {},
   "outputs": [],
   "source": [
    "#9\n",
    "\n",
    "query=\"\"\"\n",
    "MATCH (p:Person{name:\"Jessica Thompson\"})-[:DIRECTED]->(m:Movie)\n",
    "DETACH DELETE m\n",
    "\"\"\"\n",
    "graph.run(query)"
   ]
  },
  {
   "cell_type": "code",
   "execution_count": null,
   "metadata": {},
   "outputs": [],
   "source": [
    "#10\n",
    "\n",
    "query1 = \"\"\"\n",
    "MATCH (tom:Person {name:\"Tom Hanks\"})-[:ACTED_IN]->(m)<-[:ACTED_IN]-(coActors),\n",
    "(coActors)-[:ACTED_IN]->(m2)<-[:ACTED_IN]-(cocoActors) , (m:Movie)\n",
    "WHERE NOT (tom)-[:ACTED_IN]->()<-[:ACTED_IN]-(cocoActors) AND tom <>cocoActors\n",
    "RETURN coActors.name AS Recommended, count(*) AS Str, m.released\n",
    "ORDER BY Str desc\n",
    "\"\"\"\n",
    "data = graph.run(query1).to_data_frame()\n",
    "data.describe()\n",
    "\n",
    "# In average, 10 individuals will not work with Tom Hanks afeter being advised."
   ]
  },
  {
   "attachments": {},
   "cell_type": "markdown",
   "metadata": {},
   "source": [
    "## Homework 5\n",
    "\n",
    "You will work on a Twitch dataset found [here](https://www.kaggle.com/andreagarritano/twitch-social-networks). The goal is to learn more about the feat&fun on Twitch. First thing to do is create the network on Neo4j. Insert the node\n",
    "from Twitch/FR_target and then the edges from Twitch/FR_edges.csv in neo4j. Answer the following using cypher queries\n",
    "\n",
    "1) Give the IDs of the top 10 streamers that have atleast one collaboration.\n",
    "\n",
    "2) Create a density of node degrees. Do you observe a power scale law ? What does it mean ?\n",
    "\n",
    "3) How many streamers has the tag \"mature\" ?\n",
    "\n",
    "4) Is the collaboration correlated to the \"mature\" tag ?\n",
    "\n",
    "5) Do partners collaborate more than non partners ?\n",
    "\n",
    "6) Sandbox exercise : think of a problematic and try to answer it."
   ]
  },
  {
   "cell_type": "code",
   "execution_count": null,
   "metadata": {},
   "outputs": [],
   "source": [
    "import pandas as pd\n",
    "import tqdm\n",
    "import py2neo\n",
    "from py2neo import Graph, Node, Relationship\n",
    "import csv\n",
    "import tqdm\n",
    "import itertools\n",
    "\n",
    "FR_target = pd.read_csv(r\"C:\\Users\\ferve\\Documents\\NoSQL\\Homeworks\\FR_target.csv\")\n",
    "\n",
    "FR_target.drop_duplicates('new_id', inplace = True)\n",
    "\n",
    "graph = py2neo.Graph(\"bolt://localhost:7687\", auth=(\"neo4j\", \"password_tuts\"),name=\"neo4j\")\n",
    "graph.delete_all()\n",
    "\n",
    "try:\n",
    "    graph.run(\"CREATE CONSTRAINT ON (n:Streamer) ASSERT n.id_ IS UNIQUE\")\n",
    "except:\n",
    "    print(\"Constraint already exists\")\n",
    "\n",
    "transaction_list = []\n",
    "iteration = 0\n",
    "\n",
    "for row in tqdm.tqdm(FR_target.iterrows()):\n",
    "    id_ = row[1][\"id\"]\n",
    "    views = row[1][\"views\"]\n",
    "    days = row[1][\"days\"]\n",
    "    mature = row[1][\"mature\"]\n",
    "    new_id = row[1][\"new_id\"]\n",
    "    partner = row[1][\"partner\"]\n",
    "    transaction_list.append({\"id_\":id_,\"views\":views,\"days\":days,\"mature\":mature,\"new_id\":new_id,\"partner\":partner})\n",
    "    iteration += 1\n",
    "    transaction = \"UNWIND $json as data CREATE (n:Streamer) SET n = data\"\n",
    "    graph.run(transaction, json=transaction_list)\n",
    "    transaction_list = []\n",
    "    \n",
    "    \n",
    "graph.run(transaction, json=transaction_list)\n",
    "\n",
    "print(FR_target)"
   ]
  },
  {
   "cell_type": "code",
   "execution_count": null,
   "metadata": {},
   "outputs": [],
   "source": [
    "FR_edges = pd.read_csv(r\"C:\\Users\\ferve\\Documents\\NoSQL\\Homeworks\\FR_edges.csv\")\n",
    "transaction_list = []\n",
    "transaction = \"\"\"UNWIND $json as data\n",
    "    MATCH (a:Streamer),(b:Streamer)\n",
    "    WHERE a.new_id = data.from AND b.new_id = data.to\n",
    "    MERGE (a)-[r:RELATION]->(b)\n",
    "    ON CREATE\n",
    "    SET r.n_collab = 1\n",
    "    ON MATCH\n",
    "    SET r.n_collab = r.n_collab + 1\n",
    "    \"\"\"\n",
    "it = 0\n",
    "for edge in tqdm.tqdm(FR_edges.groupby([\"from\"])):\n",
    "    related_ids = edge[1][\"to\"]\n",
    "    for combi in list(itertools.combinations(related_ids, 2)):\n",
    "        sh1 = combi[0]\n",
    "        sh2 = combi[1]\n",
    "        transaction_list.append({\"from\":sh1,\"to\":sh2})\n",
    "        it +=1\n",
    "        graph.run(transaction, json=transaction_list)\n",
    "        transaction_list = []\n",
    "graph.run(transaction, json=transaction_list)"
   ]
  },
  {
   "cell_type": "code",
   "execution_count": null,
   "metadata": {},
   "outputs": [],
   "source": [
    "#1\n",
    "\n",
    "query = \"\"\"MATCH (s:Streamer)\n",
    "WHERE exists(s.id_)\n",
    "RETURN s\n",
    "ORDER BY s.views DESC\n",
    "LIMIT 10\"\"\"\n",
    "data = graph.run(query).to_data_frame()\n",
    "list(data[\"s\"])\n",
    "\n",
    "# 71852533, 84934385, 24147592, 41719107, 174955366, 147337432, 40063341, 142506321, 29478753, 27528066"
   ]
  },
  {
   "cell_type": "code",
   "execution_count": null,
   "metadata": {},
   "outputs": [],
   "source": [
    "#2 \n",
    "\n",
    "import seaborn as sns\n",
    "query = \"\"\"\n",
    "MATCH (p)\n",
    "WITH p, size((p)-[:RELATION]->()) as degree\n",
    "RETURN degree;\n",
    "\"\"\"\n",
    "data = graph.run(query).to_data_frame()\n",
    "ax = sns.distplot(data[\"degree\"],hist=False)\n",
    "ax.title.set_text(\"Density of degrees\")"
   ]
  },
  {
   "attachments": {
    "image.png": {
     "image/png": "[encoded data removed]"
    }
   },
   "cell_type": "markdown",
   "metadata": {},
   "source": [
    "![image.png](attachment:image.png)\n",
    "\n",
    "##### Loi d'échelle de puissance au point zéro avec y=1/(d)exposant(alpha) comme répartition de la distribution."
   ]
  },
  {
   "cell_type": "code",
   "execution_count": null,
   "metadata": {},
   "outputs": [],
   "source": [
    "#3\n",
    "\n",
    "query = \"\"\"\n",
    "MATCH (s:Streamer)\n",
    "WHERE s.mature=true\n",
    "with count(s) as nombre\n",
    "RETURN nombre\n",
    "\"\"\"\n",
    "graph.run(query)\n",
    "\n",
    "# 2414 streamers have the tag \"mature\""
   ]
  },
  {
   "cell_type": "code",
   "execution_count": null,
   "metadata": {},
   "outputs": [],
   "source": [
    "#4\n",
    "\n",
    "query = \"\"\"\n",
    "MATCH (p:Streamer)-[r:RELATION]->()\n",
    "where p.mature = TRUE\n",
    "RETURN p.mature\n",
    "\"\"\"\n",
    "graph.run(query)\n",
    "\n",
    "# Yes it is"
   ]
  },
  {
   "cell_type": "code",
   "execution_count": null,
   "metadata": {},
   "outputs": [],
   "source": [
    "#5\n",
    "\n",
    "query = \"\"\"\n",
    "MATCH (s:Streamer)-[r:RELATION]->()\n",
    "WHERE s.partner = True\n",
    "with count(s) as nombre\n",
    "return nombre\n",
    "\"\"\"\n",
    "graph.run(query)\n",
    "\n",
    "query1 = \"\"\"\n",
    "MATCH (s:Streamer)-[r:RELATION]->()\n",
    "WHERE s.partner = false\n",
    "with count(s) as nombre\n",
    "return nombre\n",
    "\"\"\"\n",
    "graph.run(query1)\n",
    "\n",
    "# Partners do not collaborate more than non partners"
   ]
  }
 ],
 "metadata": {
  "kernelspec": {
   "display_name": "base",
   "language": "python",
   "name": "python3"
  },
  "language_info": {
   "codemirror_mode": {
    "name": "ipython",
    "version": 3
   },
   "file_extension": ".py",
   "mimetype": "text/x-python",
   "name": "python",
   "nbconvert_exporter": "python",
   "pygments_lexer": "ipython3",
   "version": "3.9.13"
  },
  "orig_nbformat": 4
 },
 "nbformat": 4,
 "nbformat_minor": 2
}
