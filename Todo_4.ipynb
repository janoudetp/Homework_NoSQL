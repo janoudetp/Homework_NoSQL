{
 "cells": [
  {
   "attachments": {},
   "cell_type": "markdown",
   "metadata": {},
   "source": [
    "#### CRUD operations:\n",
    "\n",
    "\n",
    "**TODO 1**: You will continue to work on the MCU network for a while. Who are the 10 fastest in the MCU ? Are they related to each other ?\n",
    "\n",
    "**TODO 2**: How many have collaborated atleast more than 10 times with another superhero?\n",
    "\n",
    "**TODO 3**: Did the weakest of the MCU collaborated with the strongest ?\n",
    "\n",
    "**TODO 4**: Give a stats that interests you !\n",
    "\n",
    "**TODO 5**: Create a new db called \"master\". Create a graph from the M1 class with name and random age between 20 and 30, Group of 3 that collab (undirected relation).\n",
    "\n",
    "**TODO 6**: Get the age for people YOU collaborate with.\n",
    "\n",
    "**TODO 7**: Get nodes with age > 25.\n",
    "\n",
    "### Real world problem:\n",
    "\n",
    "**TODO 8**: Using the downloaded data in TODO 11 of chapter II, create a collaboration network between authors for papers after 2021 (same author if same name). Insert it in neo4j in a db called \"arxiv\".\n",
    "\n",
    "**TODO 9**: Get the density of degrees of the collaboration network\n",
    "\n",
    "**TODO 10**: Do a for loop for i in range(500) for each i remove nodes with a degree less than i.\n"
   ]
  },
  {
   "cell_type": "code",
   "execution_count": null,
   "metadata": {},
   "outputs": [],
   "source": [
    "#1"
   ]
  }
 ],
 "metadata": {
  "kernelspec": {
   "display_name": "base",
   "language": "python",
   "name": "python3"
  },
  "language_info": {
   "name": "python",
   "version": "3.9.13"
  },
  "orig_nbformat": 4
 },
 "nbformat": 4,
 "nbformat_minor": 2
}
